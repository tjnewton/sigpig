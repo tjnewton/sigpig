{
 "cells": [
  {
   "cell_type": "markdown",
   "metadata": {},
   "source": [
    "# Exploratory analysis of time series trace\n",
    "This notebook examines a time series, in the form of an Obspy trace, to examine the data and its properties for the purpose of identifying a metric of the data and using it to assign uncertainties to autopicked events (utilized in the **sigpig.core.data** *process_autopicked_events* function). "
   ]
  },
  {
   "cell_type": "code",
   "execution_count": 6,
   "metadata": {
    "collapsed": true,
    "jupyter": {
     "outputs_hidden": true
    }
   },
   "outputs": [
    {
     "name": "stderr",
     "output_type": "stream",
     "text": [
      "/Users/human/opt/anaconda3/envs/sigpig/lib/python3.6/site-packages/pyproj/__init__.py:76: UserWarning: pyproj unable to set database path.\n",
      "  _pyproj_global_context_initialize()\n"
     ]
    }
   ],
   "source": [
    "# load a file containing a dict describing the top 430 autopicked events (events w/ > 22 phases) on 03/13/2018\n",
    "import pickle\n",
    "infile = open(f'top_events_dict.pkl', 'rb')\n",
    "events_dict = pickle.load(infile)\n",
    "infile.close()\n",
    "\n",
    "# save the dict keys (hashed event ids) into a list for easy access\n",
    "event_ids = list(events_dict.keys())"
   ]
  },
  {
   "cell_type": "code",
   "execution_count": 12,
   "metadata": {},
   "outputs": [
    {
     "name": "stdout",
     "output_type": "stream",
     "text": [
      "[{'station': '1.DP1', 'time': UTCDateTime(2018, 3, 13, 0, 2, 49, 912000)},\n",
      " {'station': '2.DP1', 'time': UTCDateTime(2018, 3, 13, 0, 2, 49, 852000)},\n",
      " {'station': '3.DP1', 'time': UTCDateTime(2018, 3, 13, 0, 2, 49, 932000)},\n",
      " {'station': '4.DP1', 'time': UTCDateTime(2018, 3, 13, 0, 2, 49, 868000)},\n",
      " {'station': '5.DP1', 'time': UTCDateTime(2018, 3, 13, 0, 2, 49, 876000)},\n",
      " {'station': '6.DP1', 'time': UTCDateTime(2018, 3, 13, 0, 2, 49, 892000)},\n",
      " {'station': '7.DP1', 'time': UTCDateTime(2018, 3, 13, 0, 2, 49, 908000)},\n",
      " {'station': '8.DP1', 'time': UTCDateTime(2018, 3, 13, 0, 2, 49, 872000)},\n",
      " {'station': '9.DP1', 'time': UTCDateTime(2018, 3, 13, 0, 2, 49, 892000)},\n",
      " {'station': '10.DP1', 'time': UTCDateTime(2018, 3, 13, 0, 2, 49, 860000)},\n",
      " {'station': '12.DP1', 'time': UTCDateTime(2018, 3, 13, 0, 2, 49, 864000)},\n",
      " {'station': '13.DP1', 'time': UTCDateTime(2018, 3, 13, 0, 2, 49, 888000)},\n",
      " {'station': '15.DP1', 'time': UTCDateTime(2018, 3, 13, 0, 2, 49, 828000)},\n",
      " {'station': '16.DP1', 'time': UTCDateTime(2018, 3, 13, 0, 2, 49, 872000)},\n",
      " {'station': '17.DP1', 'time': UTCDateTime(2018, 3, 13, 0, 2, 49, 868000)},\n",
      " {'station': '18.DP1', 'time': UTCDateTime(2018, 3, 13, 0, 2, 49, 868000)},\n",
      " {'station': '20.DP1', 'time': UTCDateTime(2018, 3, 13, 0, 2, 49, 904000)},\n",
      " {'station': '21.DP1', 'time': UTCDateTime(2018, 3, 13, 0, 2, 49, 884000)},\n",
      " {'station': '22.DP1', 'time': UTCDateTime(2018, 3, 13, 0, 2, 49, 944000)},\n",
      " {'station': '23.DP1', 'time': UTCDateTime(2018, 3, 13, 0, 2, 49, 896000)},\n",
      " {'station': '25.DP1', 'time': UTCDateTime(2018, 3, 13, 0, 2, 49, 848000)},\n",
      " {'station': '26.DP1', 'time': UTCDateTime(2018, 3, 13, 0, 2, 49, 916000)},\n",
      " {'station': '27.DP1', 'time': UTCDateTime(2018, 3, 13, 0, 2, 49, 916000)},\n",
      " {'station': 'UGAP3.EHN', 'time': UTCDateTime(2018, 3, 13, 0, 2, 49, 888000)},\n",
      " {'station': 'UGAP5.EHN', 'time': UTCDateTime(2018, 3, 13, 0, 2, 49, 924000)}]\n"
     ]
    }
   ],
   "source": [
    "# define the event to inspect as an index into event_ids\n",
    "event = events_dict[event_ids[0]].copy()\n",
    "\n",
    "# print the dict to see the phases that make up this event\n",
    "import pprint\n",
    "pprint.pprint(event)"
   ]
  },
  {
   "cell_type": "code",
   "execution_count": 5,
   "metadata": {},
   "outputs": [
    {
     "name": "stdout",
     "output_type": "stream",
     "text": [
      "ok\n"
     ]
    }
   ],
   "source": [
    "# load traces for all phases of this event and visualize them\n"
   ]
  },
  {
   "cell_type": "code",
   "execution_count": null,
   "metadata": {},
   "outputs": [],
   "source": []
  }
 ],
 "metadata": {
  "kernelspec": {
   "display_name": "sigpig",
   "language": "python",
   "name": "sigpig"
  },
  "language_info": {
   "codemirror_mode": {
    "name": "ipython",
    "version": 3
   },
   "file_extension": ".py",
   "mimetype": "text/x-python",
   "name": "python",
   "nbconvert_exporter": "python",
   "pygments_lexer": "ipython3",
   "version": "3.6.13"
  }
 },
 "nbformat": 4,
 "nbformat_minor": 4
}
